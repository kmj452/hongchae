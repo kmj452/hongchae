{
 "cells": [
  {
   "cell_type": "code",
   "execution_count": 3,
   "id": "69138044",
   "metadata": {},
   "outputs": [
    {
     "ename": "ModuleNotFoundError",
     "evalue": "No module named 'mediapipe'",
     "output_type": "error",
     "traceback": [
      "\u001b[1;31m---------------------------------------------------------------------------\u001b[0m",
      "\u001b[1;31mModuleNotFoundError\u001b[0m                       Traceback (most recent call last)",
      "Cell \u001b[1;32mIn[3], line 5\u001b[0m\n\u001b[0;32m      1\u001b[0m \u001b[38;5;66;03m############################################################\u001b[39;00m\n\u001b[0;32m      2\u001b[0m \u001b[38;5;66;03m# 손 지문영역 검출 코드\u001b[39;00m\n\u001b[0;32m      4\u001b[0m \u001b[38;5;28;01mimport\u001b[39;00m \u001b[38;5;21;01mcv2\u001b[39;00m\n\u001b[1;32m----> 5\u001b[0m \u001b[38;5;28;01mimport\u001b[39;00m \u001b[38;5;21;01mmediapipe\u001b[39;00m \u001b[38;5;28;01mas\u001b[39;00m \u001b[38;5;21;01mmp\u001b[39;00m\n\u001b[0;32m      6\u001b[0m \u001b[38;5;28;01mimport\u001b[39;00m \u001b[38;5;21;01mmath\u001b[39;00m\n\u001b[0;32m      8\u001b[0m \u001b[38;5;66;03m# MediaPipe Hands 초기화\u001b[39;00m\n",
      "\u001b[1;31mModuleNotFoundError\u001b[0m: No module named 'mediapipe'"
     ]
    }
   ],
   "source": [
    "############################################################\n",
    "# 손 지문영역 검출 코드\n",
    "\n",
    "import cv2\n",
    "import mediapipe as mp\n",
    "import math\n",
    "\n",
    "# MediaPipe Hands 초기화\n",
    "mp_hands = mp.solutions.hands\n",
    "hands = mp_hands.Hands(max_num_hands=10)\n",
    "\n",
    "# 웹캠 초기화\n",
    "cap = cv2.VideoCapture(0)\n",
    "\n",
    "def calculate_distance(landmark1, landmark2, width, height):\n",
    "    x1, y1 = int(landmark1.x * width), int(landmark1.y * height)\n",
    "    x2, y2 = int(landmark2.x * width), int(landmark2.y * height)\n",
    "    return math.sqrt((x2 - x1) ** 2 + (y2 - y1) ** 2)\n",
    "\n",
    "def draw_finger_circles(image, landmarks):\n",
    "    h, w, _ = image.shape\n",
    "    # 엄지손가락 끝과 새끼손가락 끝 사이의 거리 계산\n",
    "    thumb_tip = landmarks[4]\n",
    "    pinky_tip = landmarks[20]\n",
    "    distance = calculate_distance(thumb_tip, pinky_tip, w, h)\n",
    "\n",
    "    for i in range(4, 21, 4):  # 각 손가락의 끝부분 (지문이 있는 부분) 인덱스\n",
    "        x = int(landmarks[i].x * w)\n",
    "        y = int(landmarks[i].y * h)\n",
    "        # 손가락 끝 부분에 빈 동그라미 그리기\n",
    "        cv2.circle(image, (x, y), 10, (0, 0, 255), 2)  # 빨간색 빈 동그라미\n",
    "    \n",
    "    return image\n",
    "\n",
    "while True:\n",
    "    success, img = cap.read()\n",
    "    if not success:\n",
    "        break\n",
    "\n",
    "    img_rgb = cv2.cvtColor(img, cv2.COLOR_BGR2RGB)\n",
    "    results = hands.process(img_rgb)\n",
    "\n",
    "    if results.multi_hand_landmarks:\n",
    "        for hand_landmarks in results.multi_hand_landmarks:\n",
    "            img = draw_finger_circles(img, hand_landmarks.landmark)\n",
    "\n",
    "    cv2.imshow(\"Hand Tracking\", img)\n",
    "    if cv2.waitKey(1) & 0xFF == ord('q'):\n",
    "        break\n",
    "\n",
    "cap.release()\n",
    "cv2.destroyAllWindows()\n"
   ]
  },
  {
   "cell_type": "code",
   "execution_count": 6,
   "id": "c962bf1d",
   "metadata": {},
   "outputs": [
    {
     "ename": "SyntaxError",
     "evalue": "invalid syntax (3693309156.py, line 1)",
     "output_type": "error",
     "traceback": [
      "\u001b[1;36m  Cell \u001b[1;32mIn[6], line 1\u001b[1;36m\u001b[0m\n\u001b[1;33m    python -m venv myenv\u001b[0m\n\u001b[1;37m              ^\u001b[0m\n\u001b[1;31mSyntaxError\u001b[0m\u001b[1;31m:\u001b[0m invalid syntax\n"
     ]
    }
   ],
   "source": [
    "python -m venv myenv\n",
    "myenv\\Scripts\\activate\n",
    "\n",
    "pip install mediapipe\n"
   ]
  },
  {
   "cell_type": "code",
   "execution_count": null,
   "id": "07fa0f18",
   "metadata": {},
   "outputs": [],
   "source": []
  }
 ],
 "metadata": {
  "kernelspec": {
   "display_name": "Python 3 (ipykernel)",
   "language": "python",
   "name": "python3"
  },
  "language_info": {
   "codemirror_mode": {
    "name": "ipython",
    "version": 3
   },
   "file_extension": ".py",
   "mimetype": "text/x-python",
   "name": "python",
   "nbconvert_exporter": "python",
   "pygments_lexer": "ipython3",
   "version": "3.11.7"
  }
 },
 "nbformat": 4,
 "nbformat_minor": 5
}
