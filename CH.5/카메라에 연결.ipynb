{
 "cells": [
  {
   "cell_type": "code",
   "execution_count": 5,
   "id": "8a7bf2c3-e533-43b3-9af5-55963e507c83",
   "metadata": {},
   "outputs": [],
   "source": [
    "import cv2\n",
    "\n",
    "cap = cv2.VideoCapture(0)#컴퓨터의 디폴트 웹캠 캡\n",
    "\n",
    "width = int(cap.get(cv2.CAP_PROP_FRAME_WIDTH))\n",
    "height = int(cap.get(cv2.CAP_PROP_FRAME_HEIGHT))\n",
    "\n",
    "writer = cv2.VideoWriter('mysupervideo.mp4',cv2.VideoWriter_fourcc(*'DIVX'),20,(width,height)) #경로를 주어(안주어주면 현재 폴더에 mp4파일 저장)\n",
    "#VideoWriter_fourc = mp4파일 입력 위한 코덱  / 기록할 초당 프레임 개수 \n",
    "while True: #q를 누르기 전까지 진행 \n",
    "    ret,frame = cap.read()#비디오로 돌아오는 것을 일련의 이미지로 인식\n",
    "    cv2.imshow('frame',frame) \n",
    "    if cv2.waitKey(1) & 0xff == ord('q'):\n",
    "        break\n",
    "\n",
    "cap.release()\n",
    "writer.release()\n",
    "cv2.destroyAllWindows()"
   ]
  },
  {
   "cell_type": "code",
   "execution_count": null,
   "id": "9ecb3310-97ea-4aff-a4e3-549ea24b0f24",
   "metadata": {},
   "outputs": [],
   "source": []
  },
  {
   "cell_type": "code",
   "execution_count": 8,
   "id": "15014f1a-d132-41ff-9784-ab0958fe52fd",
   "metadata": {},
   "outputs": [
    {
     "name": "stdout",
     "output_type": "stream",
     "text": [
      "hello\n"
     ]
    }
   ],
   "source": []
  },
  {
   "cell_type": "code",
   "execution_count": null,
   "id": "26eec462-1d97-4207-9aa1-842eba86b6e6",
   "metadata": {},
   "outputs": [],
   "source": []
  }
 ],
 "metadata": {
  "kernelspec": {
   "display_name": "Python 3 (ipykernel)",
   "language": "python",
   "name": "python3"
  },
  "language_info": {
   "codemirror_mode": {
    "name": "ipython",
    "version": 3
   },
   "file_extension": ".py",
   "mimetype": "text/x-python",
   "name": "python",
   "nbconvert_exporter": "python",
   "pygments_lexer": "ipython3",
   "version": "3.11.7"
  }
 },
 "nbformat": 4,
 "nbformat_minor": 5
}
