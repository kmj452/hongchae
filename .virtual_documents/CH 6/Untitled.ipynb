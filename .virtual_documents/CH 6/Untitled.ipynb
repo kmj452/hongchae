import cv2
import os

def collect_images(directory):
    image_paths = []
    for filename in os.listdir(directory):
        if filename.endswith('.jpg') or filename.endswith('.png'):
            image_paths.append(os.path.join(directory, filename))
    return image_paths

def create_positive_description_file(image_paths, output_file):
    with open(output_file, 'w') as f:
        for image_path in image_paths:
            f.write(image_path + ' 1 0 0 100 100\n')  # Adjust the last 4 numbers according to your object's region

def train_cascade(image_dir, positive_description_file, output_dir, width=20, height=20):
    if not os.path.exists(output_dir):
        os.makedirs(output_dir)

    # Parameters for the training
    num_stages = 20  # Adjust the number of stages as needed
    num_pos = 1000   # Adjust the number of positive samples as needed
    num_neg = 500    # Adjust the number of negative samples as needed
    num_pos_for_training = min(num_pos, len(collect_images(image_dir)))

    # Create positive description file
    create_positive_description_file(collect_images(image_dir)[:num_pos_for_training], positive_description_file)

    # Execute the training
    command = f'opencv_traincascade -data {output_dir} -vec {positive_description_file} -bg bg.txt -numStages {num_stages} -minHitRate 0.999 -maxFalseAlarmRate 0.5 -numPos {num_pos_for_training} -numNeg {num_neg} -w {width} -h {height}'
    os.system(command)

# Directory containing positive images for training
positive_image_dir = 'positive_images'
# File to store positive description
positive_description_file = 'positive_description.txt'
# Directory to store trained cascade
output_cascade_dir = 'trained_cascade'

# Train the cascade
train_cascade(positive_image_dir, positive_description_file, output_cascade_dir)

