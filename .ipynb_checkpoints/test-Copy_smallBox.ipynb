{
 "cells": [
  {
   "cell_type": "code",
   "execution_count": 1,
   "id": "95f61dac",
   "metadata": {},
   "outputs": [
    {
     "name": "stdout",
     "output_type": "stream",
     "text": [
      "Requirement already satisfied: torch in c:\\users\\gram\\appdata\\local\\programs\\python\\python39\\lib\\site-packages (2.3.0)\n",
      "Requirement already satisfied: opencv-python in c:\\users\\gram\\appdata\\local\\programs\\python\\python39\\lib\\site-packages (4.9.0.80)\n",
      "Requirement already satisfied: filelock in c:\\users\\gram\\appdata\\local\\programs\\python\\python39\\lib\\site-packages (from torch) (3.14.0)\n",
      "Requirement already satisfied: typing-extensions>=4.8.0 in c:\\users\\gram\\appdata\\local\\programs\\python\\python39\\lib\\site-packages (from torch) (4.10.0)\n",
      "Requirement already satisfied: sympy in c:\\users\\gram\\appdata\\local\\programs\\python\\python39\\lib\\site-packages (from torch) (1.12)\n",
      "Requirement already satisfied: networkx in c:\\users\\gram\\appdata\\local\\programs\\python\\python39\\lib\\site-packages (from torch) (3.2.1)\n",
      "Requirement already satisfied: jinja2 in c:\\users\\gram\\appdata\\local\\programs\\python\\python39\\lib\\site-packages (from torch) (3.1.4)\n",
      "Requirement already satisfied: fsspec in c:\\users\\gram\\appdata\\local\\programs\\python\\python39\\lib\\site-packages (from torch) (2024.3.1)\n",
      "Requirement already satisfied: mkl<=2021.4.0,>=2021.1.1 in c:\\users\\gram\\appdata\\local\\programs\\python\\python39\\lib\\site-packages (from torch) (2021.4.0)\n",
      "Requirement already satisfied: numpy>=1.17.0 in c:\\users\\gram\\appdata\\local\\programs\\python\\python39\\lib\\site-packages (from opencv-python) (1.26.4)\n",
      "Requirement already satisfied: intel-openmp==2021.* in c:\\users\\gram\\appdata\\local\\programs\\python\\python39\\lib\\site-packages (from mkl<=2021.4.0,>=2021.1.1->torch) (2021.4.0)\n",
      "Requirement already satisfied: tbb==2021.* in c:\\users\\gram\\appdata\\local\\programs\\python\\python39\\lib\\site-packages (from mkl<=2021.4.0,>=2021.1.1->torch) (2021.12.0)\n",
      "Requirement already satisfied: MarkupSafe>=2.0 in c:\\users\\gram\\appdata\\local\\programs\\python\\python39\\lib\\site-packages (from jinja2->torch) (2.1.5)\n",
      "Requirement already satisfied: mpmath>=0.19 in c:\\users\\gram\\appdata\\local\\programs\\python\\python39\\lib\\site-packages (from sympy->torch) (1.3.0)\n"
     ]
    }
   ],
   "source": [
    "# 새로운 이미지로 테스트 진행\n",
    "!pip install torch opencv-python"
   ]
  },
  {
   "cell_type": "code",
   "execution_count": 4,
   "id": "f6d89529",
   "metadata": {},
   "outputs": [
    {
     "name": "stdout",
     "output_type": "stream",
     "text": [
      "C:\\Users\\gram\\geekhub\\hongchae\n"
     ]
    },
    {
     "name": "stderr",
     "output_type": "stream",
     "text": [
      "fatal: destination path 'yolov5' already exists and is not an empty directory.\n"
     ]
    }
   ],
   "source": [
    "%cd C:\\Users\\gram\\geekhub\\hongchae\n",
    "!git clone https:\\\\\\\\github.com\\\\ultralytics\\\\yolov5"
   ]
  },
  {
   "cell_type": "code",
   "execution_count": 5,
   "id": "03bf4ab7",
   "metadata": {},
   "outputs": [
    {
     "name": "stdout",
     "output_type": "stream",
     "text": [
      "C:\\Users\\gram\\geekhub\\hongchae\\yolov5\n",
      "Requirement already satisfied: gitpython>=3.1.30 in c:\\users\\gram\\appdata\\local\\programs\\python\\python39\\lib\\site-packages (from -r requirements.txt (line 5)) (3.1.43)\n",
      "Requirement already satisfied: matplotlib>=3.3 in c:\\users\\gram\\appdata\\local\\programs\\python\\python39\\lib\\site-packages (from -r requirements.txt (line 6)) (3.8.3)\n",
      "Requirement already satisfied: numpy>=1.23.5 in c:\\users\\gram\\appdata\\local\\programs\\python\\python39\\lib\\site-packages (from -r requirements.txt (line 7)) (1.26.4)\n",
      "Requirement already satisfied: opencv-python>=4.1.1 in c:\\users\\gram\\appdata\\local\\programs\\python\\python39\\lib\\site-packages (from -r requirements.txt (line 8)) (4.9.0.80)\n",
      "Requirement already satisfied: pillow>=10.3.0 in c:\\users\\gram\\appdata\\local\\programs\\python\\python39\\lib\\site-packages (from -r requirements.txt (line 9)) (10.3.0)\n",
      "Requirement already satisfied: psutil in c:\\users\\gram\\appdata\\roaming\\python\\python39\\site-packages (from -r requirements.txt (line 10)) (5.9.8)\n",
      "Requirement already satisfied: PyYAML>=5.3.1 in c:\\users\\gram\\appdata\\local\\programs\\python\\python39\\lib\\site-packages (from -r requirements.txt (line 11)) (6.0.1)\n",
      "Requirement already satisfied: requests>=2.32.0 in c:\\users\\gram\\appdata\\local\\programs\\python\\python39\\lib\\site-packages (from -r requirements.txt (line 12)) (2.32.3)\n",
      "Requirement already satisfied: scipy>=1.4.1 in c:\\users\\gram\\appdata\\local\\programs\\python\\python39\\lib\\site-packages (from -r requirements.txt (line 13)) (1.13.0)\n",
      "Requirement already satisfied: thop>=0.1.1 in c:\\users\\gram\\appdata\\local\\programs\\python\\python39\\lib\\site-packages (from -r requirements.txt (line 14)) (0.1.1.post2209072238)\n",
      "Requirement already satisfied: torch>=1.8.0 in c:\\users\\gram\\appdata\\local\\programs\\python\\python39\\lib\\site-packages (from -r requirements.txt (line 15)) (2.3.0)\n",
      "Requirement already satisfied: torchvision>=0.9.0 in c:\\users\\gram\\appdata\\local\\programs\\python\\python39\\lib\\site-packages (from -r requirements.txt (line 16)) (0.18.0)\n",
      "Requirement already satisfied: tqdm>=4.64.0 in c:\\users\\gram\\appdata\\local\\programs\\python\\python39\\lib\\site-packages (from -r requirements.txt (line 17)) (4.66.2)\n",
      "Requirement already satisfied: ultralytics>=8.0.232 in c:\\users\\gram\\appdata\\local\\programs\\python\\python39\\lib\\site-packages (from -r requirements.txt (line 18)) (8.2.15)\n",
      "Requirement already satisfied: pandas>=1.1.4 in c:\\users\\gram\\appdata\\local\\programs\\python\\python39\\lib\\site-packages (from -r requirements.txt (line 27)) (2.2.2)\n",
      "Requirement already satisfied: seaborn>=0.11.0 in c:\\users\\gram\\appdata\\local\\programs\\python\\python39\\lib\\site-packages (from -r requirements.txt (line 28)) (0.13.2)\n",
      "Requirement already satisfied: setuptools>=65.5.1 in c:\\users\\gram\\appdata\\local\\programs\\python\\python39\\lib\\site-packages (from -r requirements.txt (line 42)) (69.2.0)\n",
      "Requirement already satisfied: wheel>=0.38.0 in c:\\users\\gram\\appdata\\local\\programs\\python\\python39\\lib\\site-packages (from -r requirements.txt (line 50)) (0.43.0)\n",
      "Requirement already satisfied: gitdb<5,>=4.0.1 in c:\\users\\gram\\appdata\\local\\programs\\python\\python39\\lib\\site-packages (from gitpython>=3.1.30->-r requirements.txt (line 5)) (4.0.11)\n",
      "Requirement already satisfied: contourpy>=1.0.1 in c:\\users\\gram\\appdata\\local\\programs\\python\\python39\\lib\\site-packages (from matplotlib>=3.3->-r requirements.txt (line 6)) (1.2.1)\n",
      "Requirement already satisfied: cycler>=0.10 in c:\\users\\gram\\appdata\\local\\programs\\python\\python39\\lib\\site-packages (from matplotlib>=3.3->-r requirements.txt (line 6)) (0.12.1)\n",
      "Requirement already satisfied: fonttools>=4.22.0 in c:\\users\\gram\\appdata\\local\\programs\\python\\python39\\lib\\site-packages (from matplotlib>=3.3->-r requirements.txt (line 6)) (4.50.0)\n",
      "Requirement already satisfied: kiwisolver>=1.3.1 in c:\\users\\gram\\appdata\\local\\programs\\python\\python39\\lib\\site-packages (from matplotlib>=3.3->-r requirements.txt (line 6)) (1.4.5)\n",
      "Requirement already satisfied: packaging>=20.0 in c:\\users\\gram\\appdata\\local\\programs\\python\\python39\\lib\\site-packages (from matplotlib>=3.3->-r requirements.txt (line 6)) (24.0)\n",
      "Requirement already satisfied: pyparsing>=2.3.1 in c:\\users\\gram\\appdata\\local\\programs\\python\\python39\\lib\\site-packages (from matplotlib>=3.3->-r requirements.txt (line 6)) (3.1.2)\n",
      "Requirement already satisfied: python-dateutil>=2.7 in c:\\users\\gram\\appdata\\local\\programs\\python\\python39\\lib\\site-packages (from matplotlib>=3.3->-r requirements.txt (line 6)) (2.9.0.post0)\n",
      "Requirement already satisfied: importlib-resources>=3.2.0 in c:\\users\\gram\\appdata\\local\\programs\\python\\python39\\lib\\site-packages (from matplotlib>=3.3->-r requirements.txt (line 6)) (6.4.0)\n",
      "Requirement already satisfied: charset-normalizer<4,>=2 in c:\\users\\gram\\appdata\\local\\programs\\python\\python39\\lib\\site-packages (from requests>=2.32.0->-r requirements.txt (line 12)) (2.1.1)\n",
      "Requirement already satisfied: idna<4,>=2.5 in c:\\users\\gram\\appdata\\local\\programs\\python\\python39\\lib\\site-packages (from requests>=2.32.0->-r requirements.txt (line 12)) (3.6)\n",
      "Requirement already satisfied: urllib3<3,>=1.21.1 in c:\\users\\gram\\appdata\\local\\programs\\python\\python39\\lib\\site-packages (from requests>=2.32.0->-r requirements.txt (line 12)) (2.2.1)\n",
      "Requirement already satisfied: certifi>=2017.4.17 in c:\\users\\gram\\appdata\\local\\programs\\python\\python39\\lib\\site-packages (from requests>=2.32.0->-r requirements.txt (line 12)) (2024.2.2)\n",
      "Requirement already satisfied: filelock in c:\\users\\gram\\appdata\\local\\programs\\python\\python39\\lib\\site-packages (from torch>=1.8.0->-r requirements.txt (line 15)) (3.14.0)\n",
      "Requirement already satisfied: typing-extensions>=4.8.0 in c:\\users\\gram\\appdata\\local\\programs\\python\\python39\\lib\\site-packages (from torch>=1.8.0->-r requirements.txt (line 15)) (4.10.0)\n",
      "Requirement already satisfied: sympy in c:\\users\\gram\\appdata\\local\\programs\\python\\python39\\lib\\site-packages (from torch>=1.8.0->-r requirements.txt (line 15)) (1.12)\n",
      "Requirement already satisfied: networkx in c:\\users\\gram\\appdata\\local\\programs\\python\\python39\\lib\\site-packages (from torch>=1.8.0->-r requirements.txt (line 15)) (3.2.1)\n",
      "Requirement already satisfied: jinja2 in c:\\users\\gram\\appdata\\local\\programs\\python\\python39\\lib\\site-packages (from torch>=1.8.0->-r requirements.txt (line 15)) (3.1.4)\n",
      "Requirement already satisfied: fsspec in c:\\users\\gram\\appdata\\local\\programs\\python\\python39\\lib\\site-packages (from torch>=1.8.0->-r requirements.txt (line 15)) (2024.3.1)\n",
      "Requirement already satisfied: mkl<=2021.4.0,>=2021.1.1 in c:\\users\\gram\\appdata\\local\\programs\\python\\python39\\lib\\site-packages (from torch>=1.8.0->-r requirements.txt (line 15)) (2021.4.0)\n",
      "Requirement already satisfied: colorama in c:\\users\\gram\\appdata\\local\\programs\\python\\python39\\lib\\site-packages (from tqdm>=4.64.0->-r requirements.txt (line 17)) (0.4.6)\n",
      "Requirement already satisfied: py-cpuinfo in c:\\users\\gram\\appdata\\local\\programs\\python\\python39\\lib\\site-packages (from ultralytics>=8.0.232->-r requirements.txt (line 18)) (9.0.0)\n",
      "Requirement already satisfied: pytz>=2020.1 in c:\\users\\gram\\appdata\\local\\programs\\python\\python39\\lib\\site-packages (from pandas>=1.1.4->-r requirements.txt (line 27)) (2024.1)\n",
      "Requirement already satisfied: tzdata>=2022.7 in c:\\users\\gram\\appdata\\local\\programs\\python\\python39\\lib\\site-packages (from pandas>=1.1.4->-r requirements.txt (line 27)) (2024.1)\n",
      "Requirement already satisfied: smmap<6,>=3.0.1 in c:\\users\\gram\\appdata\\local\\programs\\python\\python39\\lib\\site-packages (from gitdb<5,>=4.0.1->gitpython>=3.1.30->-r requirements.txt (line 5)) (5.0.1)\n",
      "Requirement already satisfied: zipp>=3.1.0 in c:\\users\\gram\\appdata\\local\\programs\\python\\python39\\lib\\site-packages (from importlib-resources>=3.2.0->matplotlib>=3.3->-r requirements.txt (line 6)) (3.18.1)\n",
      "Requirement already satisfied: intel-openmp==2021.* in c:\\users\\gram\\appdata\\local\\programs\\python\\python39\\lib\\site-packages (from mkl<=2021.4.0,>=2021.1.1->torch>=1.8.0->-r requirements.txt (line 15)) (2021.4.0)\n",
      "Requirement already satisfied: tbb==2021.* in c:\\users\\gram\\appdata\\local\\programs\\python\\python39\\lib\\site-packages (from mkl<=2021.4.0,>=2021.1.1->torch>=1.8.0->-r requirements.txt (line 15)) (2021.12.0)\n",
      "Requirement already satisfied: six>=1.5 in c:\\users\\gram\\appdata\\local\\programs\\python\\python39\\lib\\site-packages (from python-dateutil>=2.7->matplotlib>=3.3->-r requirements.txt (line 6)) (1.16.0)\n",
      "Requirement already satisfied: MarkupSafe>=2.0 in c:\\users\\gram\\appdata\\local\\programs\\python\\python39\\lib\\site-packages (from jinja2->torch>=1.8.0->-r requirements.txt (line 15)) (2.1.5)\n",
      "Requirement already satisfied: mpmath>=0.19 in c:\\users\\gram\\appdata\\local\\programs\\python\\python39\\lib\\site-packages (from sympy->torch>=1.8.0->-r requirements.txt (line 15)) (1.3.0)\n"
     ]
    }
   ],
   "source": [
    "%cd yolov5\n",
    "!pip install -r requirements.txt"
   ]
  },
  {
   "cell_type": "code",
   "execution_count": 1,
   "id": "b6698937",
   "metadata": {},
   "outputs": [
    {
     "name": "stdout",
     "output_type": "stream",
     "text": [
      "데이터셋 분리 완료\n"
     ]
    }
   ],
   "source": [
    "import os\n",
    "import shutil\n",
    "from sklearn.model_selection import train_test_split\n",
    "\n",
    "# 데이터 경로 설정\n",
    "data_path = \"C:\\\\Users\\\\gram\\\\geekhub\\\\hongchae\\\\CASIA-Iris-Interval\"\n",
    "output_path = \"C:\\\\Users\\\\gram\\\\geekhub\\\\hongchae\\\\yolov5\"\n",
    "\n",
    "# 학습용 및 검증용 폴더 생성\n",
    "train_img_dir = os.path.join(output_path, 'images/train')\n",
    "val_img_dir = os.path.join(output_path, 'images/val')\n",
    "train_label_dir = os.path.join(output_path, 'labels/train')\n",
    "val_label_dir = os.path.join(output_path, 'labels/val')\n",
    "\n",
    "os.makedirs(train_img_dir, exist_ok=True)\n",
    "os.makedirs(val_img_dir, exist_ok=True)\n",
    "os.makedirs(train_label_dir, exist_ok=True)\n",
    "os.makedirs(val_label_dir, exist_ok=True)\n",
    "\n",
    "# 이미지와 라벨 파일 목록 가져오기\n",
    "img_files = []\n",
    "label_files = []\n",
    "\n",
    "for root, _, files in os.walk(data_path):\n",
    "    for file in files:\n",
    "        if file.endswith(('.jpg', '.jpeg', '.png')):\n",
    "            img_files.append(os.path.join(root, file))\n",
    "            label_files.append(os.path.join(root, file + '.txt'))\n",
    "\n",
    "# 데이터셋을 학습용과 검증용으로 분리\n",
    "train_imgs, val_imgs, train_labels, val_labels = train_test_split(img_files, label_files, test_size=0.2, random_state=42)\n",
    "\n",
    "# 파일 이동\n",
    "for img, label in zip(train_imgs, train_labels):\n",
    "    shutil.copy(img, train_img_dir)\n",
    "    shutil.copy(label, train_label_dir)\n",
    "\n",
    "for img, label in zip(val_imgs, val_labels):\n",
    "    shutil.copy(img, val_img_dir)\n",
    "    shutil.copy(label, val_label_dir)\n",
    "\n",
    "print(\"데이터셋 분리 완료\")"
   ]
  },
  {
   "cell_type": "code",
   "execution_count": 2,
   "id": "1c3c75e6",
   "metadata": {},
   "outputs": [
    {
     "ename": "FileExistsError",
     "evalue": "[WinError 183] 파일이 이미 있으므로 만들 수 없습니다: 'C:\\\\Users\\\\gram\\\\geekhub\\\\hongchae\\\\yolov5\\\\labels\\\\train\\\\S1001L01.jpg.txt' -> 'C:\\\\Users\\\\gram\\\\geekhub\\\\hongchae\\\\yolov5\\\\labels\\\\train\\\\S1001L01.txt'",
     "output_type": "error",
     "traceback": [
      "\u001b[1;31m---------------------------------------------------------------------------\u001b[0m",
      "\u001b[1;31mFileExistsError\u001b[0m                           Traceback (most recent call last)",
      "Cell \u001b[1;32mIn[2], line 20\u001b[0m\n\u001b[0;32m     17\u001b[0m             \u001b[38;5;28mprint\u001b[39m(\u001b[38;5;124mf\u001b[39m\u001b[38;5;124m\"\u001b[39m\u001b[38;5;124mRenamed: \u001b[39m\u001b[38;5;132;01m{\u001b[39;00mold_filepath\u001b[38;5;132;01m}\u001b[39;00m\u001b[38;5;124m -> \u001b[39m\u001b[38;5;132;01m{\u001b[39;00mnew_filepath\u001b[38;5;132;01m}\u001b[39;00m\u001b[38;5;124m\"\u001b[39m)\n\u001b[0;32m     19\u001b[0m \u001b[38;5;66;03m# train과 val 디렉토리에서 파일 이름 변경\u001b[39;00m\n\u001b[1;32m---> 20\u001b[0m \u001b[43mrename_files_in_directory\u001b[49m\u001b[43m(\u001b[49m\u001b[43mtrain_label_dir\u001b[49m\u001b[43m)\u001b[49m\n\u001b[0;32m     21\u001b[0m rename_files_in_directory(val_label_dir)\n\u001b[0;32m     23\u001b[0m \u001b[38;5;28mprint\u001b[39m(\u001b[38;5;124m\"\u001b[39m\u001b[38;5;124m파일 이름 변경 완료\u001b[39m\u001b[38;5;124m\"\u001b[39m)\n",
      "Cell \u001b[1;32mIn[2], line 16\u001b[0m, in \u001b[0;36mrename_files_in_directory\u001b[1;34m(directory)\u001b[0m\n\u001b[0;32m     13\u001b[0m new_filepath \u001b[38;5;241m=\u001b[39m os\u001b[38;5;241m.\u001b[39mpath\u001b[38;5;241m.\u001b[39mjoin(directory, new_filename)\n\u001b[0;32m     15\u001b[0m \u001b[38;5;66;03m# 파일 이름 변경\u001b[39;00m\n\u001b[1;32m---> 16\u001b[0m \u001b[43mos\u001b[49m\u001b[38;5;241;43m.\u001b[39;49m\u001b[43mrename\u001b[49m\u001b[43m(\u001b[49m\u001b[43mold_filepath\u001b[49m\u001b[43m,\u001b[49m\u001b[43m \u001b[49m\u001b[43mnew_filepath\u001b[49m\u001b[43m)\u001b[49m\n\u001b[0;32m     17\u001b[0m \u001b[38;5;28mprint\u001b[39m(\u001b[38;5;124mf\u001b[39m\u001b[38;5;124m\"\u001b[39m\u001b[38;5;124mRenamed: \u001b[39m\u001b[38;5;132;01m{\u001b[39;00mold_filepath\u001b[38;5;132;01m}\u001b[39;00m\u001b[38;5;124m -> \u001b[39m\u001b[38;5;132;01m{\u001b[39;00mnew_filepath\u001b[38;5;132;01m}\u001b[39;00m\u001b[38;5;124m\"\u001b[39m)\n",
      "\u001b[1;31mFileExistsError\u001b[0m: [WinError 183] 파일이 이미 있으므로 만들 수 없습니다: 'C:\\\\Users\\\\gram\\\\geekhub\\\\hongchae\\\\yolov5\\\\labels\\\\train\\\\S1001L01.jpg.txt' -> 'C:\\\\Users\\\\gram\\\\geekhub\\\\hongchae\\\\yolov5\\\\labels\\\\train\\\\S1001L01.txt'"
     ]
    }
   ],
   "source": [
    "import os\n",
    "\n",
    "# 경로 설정\n",
    "train_label_dir = \"C:\\\\Users\\\\gram\\\\geekhub\\\\hongchae\\\\yolov5\\\\labels\\\\train\"\n",
    "val_label_dir = \"C:\\\\Users\\\\gram\\\\geekhub\\\\hongchae\\\\yolov5\\\\labels\\\\val\"\n",
    "\n",
    "def rename_files_in_directory(directory):\n",
    "    for filename in os.listdir(directory):\n",
    "        if filename.endswith(\".jpg.txt\"):\n",
    "            # 새로운 파일 이름 생성 (\".jpg\" 부분 제거)\n",
    "            new_filename = filename.replace(\".jpg.txt\", \".txt\")\n",
    "            old_filepath = os.path.join(directory, filename)\n",
    "            new_filepath = os.path.join(directory, new_filename)\n",
    "            \n",
    "            # 파일 이름 변경\n",
    "            os.rename(old_filepath, new_filepath)\n",
    "            print(f\"Renamed: {old_filepath} -> {new_filepath}\")\n",
    "\n",
    "# train과 val 디렉토리에서 파일 이름 변경\n",
    "rename_files_in_directory(train_label_dir)\n",
    "rename_files_in_directory(val_label_dir)\n",
    "\n",
    "print(\"파일 이름 변경 완료\")"
   ]
  },
  {
   "cell_type": "code",
   "execution_count": null,
   "id": "5d562d3c",
   "metadata": {},
   "outputs": [
    {
     "name": "stdout",
     "output_type": "stream",
     "text": [
      "data.yaml 파일이 생성되었습니다: C:\\Users\\gram\\geekhub\\hongchae\\yolov5\\data.yaml\n"
     ]
    }
   ],
   "source": [
    "import os\n",
    "\n",
    "# data.yaml 파일 내용\n",
    "data_yaml_content = \"\"\"\n",
    "train: C:\\\\Users\\\\gram\\\\geekhub\\\\hongchae\\\\yolov5\\\\images\\\\train\n",
    "val: C:\\\\Users\\\\gram\\\\geekhub\\\\hongchae\\\\yolov5\\\\images\\\\val\n",
    "\n",
    "nc: 1  # 클래스 개수 (홍채 클래스)\n",
    "names: ['iris']\n",
    "\"\"\"\n",
    "\n",
    "# data.yaml 파일 생성 경로\n",
    "data_yaml_path = \"C:\\\\Users\\\\gram\\\\geekhub\\\\hongchae\\\\yolov5\\\\data.yaml\"\n",
    "\n",
    "# 디렉토리가 존재하지 않는 경우 생성\n",
    "os.makedirs(os.path.dirname(data_yaml_path), exist_ok=True)\n",
    "\n",
    "# data.yaml 파일 생성\n",
    "with open(data_yaml_path, 'w') as file:\n",
    "    file.write(data_yaml_content)\n",
    "\n",
    "print(f\"data.yaml 파일이 생성되었습니다: {data_yaml_path}\")"
   ]
  },
  {
   "cell_type": "code",
   "execution_count": 3,
   "id": "c9cdc531",
   "metadata": {
    "scrolled": true
   },
   "outputs": [
    {
     "name": "stderr",
     "output_type": "stream",
     "text": [
      "YOLOv5  v7.0-318-gc0380fd8 Python-3.9.6 torch-2.3.0+cpu CPU\n",
      "\n",
      "Fusing layers... \n",
      "Model summary: 157 layers, 7012822 parameters, 0 gradients, 15.8 GFLOPs\n"
     ]
    },
    {
     "name": "stdout",
     "output_type": "stream",
     "text": [
      "Processing complete.\n"
     ]
    }
   ],
   "source": [
    "import torch\n",
    "import cv2\n",
    "import numpy as np\n",
    "import sys\n",
    "from pathlib import Path\n",
    "import os\n",
    "\n",
    "# YOLOv5 저장소 경로 추가\n",
    "sys.path.append('C:\\\\Users\\\\gram\\\\geekhub\\\\hongchae\\\\yolov5')\n",
    "\n",
    "from models.common import DetectMultiBackend\n",
    "from utils.general import non_max_suppression\n",
    "from utils.torch_utils import select_device\n",
    "\n",
    "# Haarcascade 로드\n",
    "eye_cascade_path = cv2.data.haarcascades + 'haarcascade_eye.xml'\n",
    "eye_cascade = cv2.CascadeClassifier(eye_cascade_path)\n",
    "\n",
    "# scale_coords 함수 정의\n",
    "def scale_coords(img1_shape, coords, img0_shape, ratio_pad=None):\n",
    "    if ratio_pad is None:\n",
    "        gain = min(img1_shape[0] / img0_shape[0], img1_shape[1] / img0_shape[1])\n",
    "        pad = (img1_shape[1] - img0_shape[1] * gain) / 2, (img1_shape[0] - img0_shape[0] * gain) / 2\n",
    "    else:\n",
    "        gain = ratio_pad[0][0]\n",
    "        pad = ratio_pad[1]\n",
    "\n",
    "    coords[:, [0, 2]] -= pad[0]\n",
    "    coords[:, [1, 3]] -= pad[1]\n",
    "    coords[:, :4] /= gain\n",
    "    coords[:, 0].clamp_(0, img0_shape[1])\n",
    "    coords[:, 1].clamp_(0, img0_shape[0])\n",
    "    coords[:, 2].clamp_(0, img0_shape[1])\n",
    "    coords[:, 3].clamp_(0, img0_shape[0])\n",
    "    return coords\n",
    "\n",
    "# YOLOv5 모델 로드\n",
    "model_path = \"C:\\\\Users\\\\gram\\\\geekhub\\\\hongchae\\\\yolov5\\\\runs\\\\train\\\\exp\\\\weights\\\\best.pt\"  # 모델 경로\n",
    "device = select_device('cpu')\n",
    "model = DetectMultiBackend(weights=str(model_path), device=device)\n",
    "\n",
    "# 이미지 경로 설정\n",
    "input_image_path = \"C:\\\\Users\\\\gram\\\\udemy_code\\\\djfqkr.JPG\"  # 입력 이미지 경로\n",
    "eye_detect_dir = \"C:\\\\Users\\\\gram\\\\udemy_code\\\\eye_detect\"\n",
    "yolo_detect_dir = \"C:\\\\Users\\\\gram\\\\udemy_code\\\\yolo_detect\"\n",
    "blurred_dir = \"C:\\\\Users\\\\gram\\\\udemy_code\\\\blurred\"  # 블러링된 완본 사진 저장 디렉토리\n",
    "\n",
    "if not os.path.exists(eye_detect_dir):\n",
    "    os.makedirs(eye_detect_dir)\n",
    "if not os.path.exists(yolo_detect_dir):\n",
    "    os.makedirs(yolo_detect_dir)\n",
    "if not os.path.exists(blurred_dir):\n",
    "    os.makedirs(blurred_dir)\n",
    "\n",
    "frame_count = 0\n",
    "detect_count = 0\n",
    "\n",
    "# 입력 이미지 로드\n",
    "frame = cv2.imread(input_image_path)\n",
    "if frame is None:\n",
    "    print(f\"Error: Could not load image {input_image_path}\")\n",
    "    sys.exit()\n",
    "\n",
    "original_frame = frame.copy()\n",
    "\n",
    "gray = cv2.cvtColor(frame, cv2.COLOR_BGR2GRAY)\n",
    "eyes = eye_cascade.detectMultiScale(gray, 1.3, 5)\n",
    "\n",
    "for (x, y, w, h) in eyes:\n",
    "    # 검출된 눈 영역을 확장\n",
    "    expand_ratio = 0.5  # 확장 비율\n",
    "    ex = int(w * expand_ratio)\n",
    "    ey = int(h * expand_ratio)\n",
    "    x1 = max(0, x - ex)\n",
    "    y1 = max(0, y - ey)\n",
    "    x2 = min(frame.shape[1], x + w + ex)\n",
    "    y2 = min(frame.shape[0], y + h + ey)\n",
    "\n",
    "    roi_color = frame[y1:y2, x1:x2]\n",
    "    cv2.rectangle(frame, (x1, y1), (x2, y2), (255, 0, 0), 2)  # 파란색 바운딩 박스 (BGR 형식으로 (255, 0, 0))\n",
    "\n",
    "    # 검출된 눈 영역을 이미지로 저장 (YOLO에 넣기 전)\n",
    "    eye_img_path = os.path.join(eye_detect_dir, f\"eye_{frame_count}.png\")\n",
    "    cv2.imwrite(eye_img_path, roi_color)\n",
    "    frame_count += 1\n",
    "\n",
    "    # 검출된 눈 영역을 YOLOv5 모델에 입력하기 위해 전처리\n",
    "    eye_img = cv2.resize(roi_color, (640, 640))  # YOLOv5 입력 크기로 조정\n",
    "    eye_img = eye_img[:, :, ::-1].transpose(2, 0, 1)\n",
    "    eye_img = np.ascontiguousarray(eye_img)\n",
    "\n",
    "    eye_img = torch.from_numpy(eye_img).to(device)\n",
    "    eye_img = eye_img.float()\n",
    "    eye_img /= 255.0\n",
    "    if eye_img.ndimension() == 3:\n",
    "        eye_img = eye_img.unsqueeze(0)\n",
    "\n",
    "    # 추론\n",
    "    pred = model(eye_img, augment=False, visualize=False)\n",
    "    pred = non_max_suppression(pred, 0.25, 0.45, None, False, max_det=1000)\n",
    "\n",
    "    # 바운딩 박스 그리기 및 객체 인식 확인\n",
    "    for i, det in enumerate(pred):\n",
    "        if len(det):\n",
    "            det[:, :4] = scale_coords(eye_img.shape[2:], det[:, :4], roi_color.shape).round()\n",
    "\n",
    "            for *xyxy, conf, cls in reversed(det):\n",
    "                if conf > 0.5:\n",
    "                    # 바운딩 박스 크기를 조정하여 홍채 부분만 포함하도록 함\n",
    "                    iris_x1, iris_y1, iris_x2, iris_y2 = map(int, xyxy)\n",
    "\n",
    "                    # 블러 적용 영역 크기 줄이기\n",
    "                    buffer = 10  # 바운딩 박스 내 블러 적용 영역을 줄이는 정도\n",
    "                    iris_x1 += buffer\n",
    "                    iris_y1 += buffer\n",
    "                    iris_x2 -= buffer\n",
    "                    iris_y2 -= buffer\n",
    "                    \n",
    "                    cv2.rectangle(roi_color, (iris_x1, iris_y1), (iris_x2, iris_y2), (0, 0, 255), 2)  # 빨간색 바운딩 박스 (BGR 형식으로 (0, 0, 255))\n",
    "                    label = f\"Iris: {conf:.2f}\"\n",
    "                    cv2.putText(roi_color, label, (iris_x1, iris_y1 - 10), cv2.FONT_HERSHEY_SIMPLEX, 0.5, (0, 0, 255), 2)\n",
    "                    \n",
    "                    # 가우시안 블러 적용\n",
    "                    iris_roi = roi_color[iris_y1:iris_y2, iris_x1:iris_x2]\n",
    "                    blurred_iris_roi = cv2.GaussianBlur(iris_roi, (31, 31), 0)\n",
    "                    roi_color[iris_y1:iris_y2, iris_x1:iris_x2] = blurred_iris_roi\n",
    "\n",
    "                    # YOLO 검출 성공 후 이미지 저장\n",
    "                    yolo_img_path = os.path.join(yolo_detect_dir, f\"detect_{detect_count}.png\")\n",
    "                    cv2.imwrite(yolo_img_path, roi_color)\n",
    "                    detect_count += 1\n",
    "\n",
    "                    # 원본 이미지의 홍채 영역을 블러 처리\n",
    "                    iris_roi_original = original_frame[iris_y1 + y1:iris_y2 + y1, iris_x1 + x1:iris_x2 + x1]\n",
    "                    blurred_iris_roi_original = cv2.GaussianBlur(iris_roi_original, (31, 31), 0)\n",
    "                    original_frame[iris_y1 + y1:iris_y2 + y1, iris_x1 + x1:iris_x2 + x1] = blurred_iris_roi_original\n",
    "\n",
    "# 블러링된 완본 사진 저장 (바운딩 박스 제거)\n",
    "blurred_img_path = os.path.join(blurred_dir, \"blurred_image.png\")\n",
    "cv2.imwrite(blurred_img_path, original_frame)\n",
    "\n",
    "print(\"Processing complete.\")\n"
   ]
  },
  {
   "cell_type": "code",
   "execution_count": 16,
   "id": "08dbe723",
   "metadata": {},
   "outputs": [
    {
     "name": "stderr",
     "output_type": "stream",
     "text": [
      "YOLOv5  v7.0-318-gc0380fd8 Python-3.9.6 torch-2.3.0+cpu CPU\n",
      "\n",
      "Fusing layers... \n",
      "Model summary: 157 layers, 7012822 parameters, 0 gradients, 15.8 GFLOPs\n"
     ]
    },
    {
     "name": "stdout",
     "output_type": "stream",
     "text": [
      "Loaded image with shape: (274, 274, 3)\n",
      "Resized image to: (640, 640, 3)\n",
      "Image shape after channel conversion and transpose: (3, 640, 640)\n",
      "Image shape after conversion to tensor and normalization: torch.Size([3, 640, 640])\n",
      "Image shape after adding batch dimension: torch.Size([1, 3, 640, 640])\n",
      "Prediction shape: torch.Size([1, 25200, 6]) - First few predictions: tensor([[[4.35097e+00, 4.40274e+00, 3.58770e+01, 3.79682e+01, 4.64847e-07, 9.99980e-01],\n",
      "         [1.23302e+01, 3.67228e+00, 3.62495e+01, 3.65354e+01, 1.82218e-06, 9.99980e-01],\n",
      "         [2.06611e+01, 3.81601e+00, 3.76889e+01, 3.65361e+01, 9.15857e-07, 9.99979e-01],\n",
      "         ...,\n",
      "         [5.64488e+02, 6.00144e+02, 1.59785e+02, 8.88411e+01, 3.38368e-06, 9.99981e-01],\n",
      "         [5.82494e+02, 6.01078e+02, 1.25096e+02, 8.32100e+01, 2.79388e-06, 9.99979e-01],\n",
      "         [6.06582e+02, 6.06533e+02, 1.04778e+02, 8.79264e+01, 1.87047e-07, 9.99978e-01]]])\n",
      "NMS done. Number of detections: 1\n",
      "No objects detected. Potential reasons:\n",
      "- The confidence threshold (0.3) may be too high.\n",
      "- The model may not be well trained for the given image.\n",
      "- The image may not have clear features for detection.\n",
      "- The object size or scale might be out of the expected range for the model.\n",
      "결과 이미지가 저장되었습니다: C:\\Users\\gram\\geekhub\\hongchae\\meResult.jpg\n"
     ]
    }
   ],
   "source": []
  }
 ],
 "metadata": {
  "kernelspec": {
   "display_name": "Python 3",
   "language": "python",
   "name": "python3"
  },
  "language_info": {
   "codemirror_mode": {
    "name": "ipython",
    "version": 3
   },
   "file_extension": ".py",
   "mimetype": "text/x-python",
   "name": "python",
   "nbconvert_exporter": "python",
   "pygments_lexer": "ipython3",
   "version": "3.9.6"
  }
 },
 "nbformat": 4,
 "nbformat_minor": 5
}
