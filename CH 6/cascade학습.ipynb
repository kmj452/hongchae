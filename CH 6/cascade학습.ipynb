{
 "cells": [
  {
   "cell_type": "code",
   "execution_count": null,
   "id": "713feb61-4684-4877-b358-02c8a381e264",
   "metadata": {},
   "outputs": [],
   "source": [
    "import cv2\n",
    "import os\n",
    "\n",
    "def collect_images(directory):\n",
    "    image_paths = []\n",
    "    for filename in os.listdir(directory):\n",
    "        if filename.endswith('.jpg') or filename.endswith('.png'):\n",
    "            image_paths.append(os.path.join(directory, filename))\n",
    "    return image_paths\n",
    "\n",
    "def create_positive_description_file(image_paths, output_file):\n",
    "    with open(output_file, 'w') as f:\n",
    "        for image_path in image_paths:\n",
    "            f.write(image_path + ' 1 0 0 100 100\\n')  # Adjust the last 4 numbers according to your object's region\n",
    "\n",
    "def train_cascade(image_dir, positive_description_file, output_dir, width=20, height=20):\n",
    "    if not os.path.exists(output_dir):\n",
    "        os.makedirs(output_dir)\n",
    "\n",
    "    # Parameters for the training\n",
    "    num_stages = 20  # Adjust the number of stages as needed\n",
    "    num_pos = 1000   # Adjust the number of positive samples as needed\n",
    "    num_neg = 500    # Adjust the number of negative samples as needed\n",
    "    num_pos_for_training = min(num_pos, len(collect_images(image_dir)))\n",
    "\n",
    "    # Create positive description file\n",
    "    create_positive_description_file(collect_images(image_dir)[:num_pos_for_training], positive_description_file)\n",
    "\n",
    "    # Execute the training\n",
    "    command = f'opencv_traincascade -data {output_dir} -vec {positive_description_file} -bg bg.txt -numStages {num_stages} -minHitRate 0.999 -maxFalseAlarmRate 0.5 -numPos {num_pos_for_training} -numNeg {num_neg} -w {width} -h {height}'\n",
    "    os.system(command)\n",
    "\n",
    "# Directory containing positive images for training\n",
    "positive_image_dir = 'positive_images'\n",
    "# File to store positive description\n",
    "positive_description_file = 'positive_description.txt'\n",
    "# Directory to store trained cascade\n",
    "output_cascade_dir = 'trained_cascade'\n",
    "\n",
    "# Train the cascade\n",
    "train_cascade(positive_image_dir, positive_description_file, output_cascade_dir)\n"
   ]
  }
 ],
 "metadata": {
  "kernelspec": {
   "display_name": "Python 3 (ipykernel)",
   "language": "python",
   "name": "python3"
  },
  "language_info": {
   "codemirror_mode": {
    "name": "ipython",
    "version": 3
   },
   "file_extension": ".py",
   "mimetype": "text/x-python",
   "name": "python",
   "nbconvert_exporter": "python",
   "pygments_lexer": "ipython3",
   "version": "3.11.7"
  }
 },
 "nbformat": 4,
 "nbformat_minor": 5
}
